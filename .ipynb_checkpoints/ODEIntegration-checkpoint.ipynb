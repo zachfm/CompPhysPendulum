{
 "cells": [
  {
   "cell_type": "code",
   "execution_count": 16,
   "metadata": {
    "collapsed": false
   },
   "outputs": [],
   "source": [
    "import matplotlib.pyplot as plt\n",
    "import numpy as np"
   ]
  },
  {
   "cell_type": "markdown",
   "metadata": {},
   "source": [
    "#Initialize  t, y and arrays"
   ]
  },
  {
   "cell_type": "code",
   "execution_count": 17,
   "metadata": {
    "collapsed": false
   },
   "outputs": [],
   "source": [
    "import math\n",
    "\n",
    "dt = .01\n",
    "\n",
    "class Pendulum:\n",
    "    def __init__(self):\n",
    "        self.vel = [0,0]\n",
    "        self.theta = [90,90]\n",
    "        self.accel = [0,0]\n",
    "\n",
    "\"\"\"\n",
    "class Pendulum:\n",
    "    def __init__(self):\n",
    "        self.curr_vel = -.1\n",
    "        self.prev_vel = 0\n",
    "        self.curr_pos = 89\n",
    "        self.prev_pos = 90\n",
    "\"\"\"\n",
    "\n",
    "k = 3.5\n"
   ]
  },
  {
   "cell_type": "code",
   "execution_count": 18,
   "metadata": {
    "collapsed": false
   },
   "outputs": [],
   "source": [
    "def cal_accel(theta):\n",
    "    accel = (-1)*k*k*math.sin(math.radians(theta))\n",
    "    #print( \"Acceleration: \" + str(accel))\n",
    "    return accel\n",
    "\n",
    "def bashforthadams(style, pend):\n",
    "    if style == \"pos\":\n",
    "        pend.theta.append(  pend.theta[-1] + (3*dt*pend.vel[-1]/2) \\\n",
    "                             - dt*pend.vel[-2]/2)\n",
    "    if style == \"vel\":\n",
    "        pend.vel.append(pend.vel[-1] + 3*dt*cal_accel(pend.theta[-1])/2 \\\n",
    "                             - dt*cal_accel(pend.theta[-1])/2)\n",
    "\n",
    "def run_oscillator(pend):    \n",
    "    for i in range (2000):\n",
    "        #ok = input(\"Vel: \" + str(pend.curr_vel) + \"\\nPos: \" + str(pend.curr_pos))\n",
    "        bashforthadams(\"pos\", pend)\n",
    "        bashforthadams(\"vel\", pend)\n",
    "\n"
   ]
  },
  {
   "cell_type": "code",
   "execution_count": 19,
   "metadata": {
    "collapsed": false,
    "scrolled": true
   },
   "outputs": [
    {
     "data": {
      "image/png": "[encoded data removed]",
      "text/plain": [
       "<matplotlib.figure.Figure at 0x7f8e31ff1198>"
      ]
     },
     "metadata": {},
     "output_type": "display_data"
    }
   ],
   "source": [
    "pend = Pendulum()\n",
    "run_oscillator(pend)\n",
    "\n",
    "plt.plot(pend.theta, pend.vel)\n",
    "plt.xlabel('theta')\n",
    "plt.ylabel('vel')\n",
    "plt.show()"
   ]
  },
  {
   "cell_type": "code",
   "execution_count": null,
   "metadata": {
    "collapsed": true
   },
   "outputs": [],
   "source": []
  },
  {
   "cell_type": "code",
   "execution_count": null,
   "metadata": {
    "collapsed": true
   },
   "outputs": [],
   "source": []
  }
 ],
 "metadata": {
  "kernelspec": {
   "display_name": "Python 3",
   "language": "python",
   "name": "python3"
  },
  "language_info": {
   "codemirror_mode": {
    "name": "ipython",
    "version": 3
   },
   "file_extension": ".py",
   "mimetype": "text/x-python",
   "name": "python",
   "nbconvert_exporter": "python",
   "pygments_lexer": "ipython3",
   "version": "3.5.2"
  }
 },
 "nbformat": 4,
 "nbformat_minor": 2
}

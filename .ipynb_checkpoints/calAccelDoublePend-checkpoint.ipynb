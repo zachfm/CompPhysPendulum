{
 "cells": [
  {
   "cell_type": "code",
   "execution_count": 4,
   "metadata": {
    "collapsed": true
   },
   "outputs": [],
   "source": [
    "import math\n",
    "\n",
    "g = 9.81\n",
    "l = .5\n",
    "\n",
    "class PendState:\n",
    "    def __init__(self, theta, vel):\n",
    "        # Angular velocity\n",
    "        self.vel = vel\n",
    "        # Angular position\n",
    "        self.theta = theta\n",
    "        \n",
    "def calAccel1(p1,p2):\n",
    "    numerator1 = 3*g*(math.sin(p1.theta-2*p2.theta)+3*math.sin(p1.theta))\n",
    "    numerator2 = 3*l*(p1.vel**2)*math.sin(2*(p1.theta-p2.theta))\n",
    "    numerator3 = 4*l*(p2.vel**2)*math.sin(   p1.theta-p2.theta )\n",
    "    denominator =  l*(9*math.cos(2*(p1.theta-p2.theta)) - 23)\n",
    "    accel1 = 3*(numerator1+numerator2+numerator3)/denominator\n",
    "    return accel1\n",
    "\n",
    "def calAccel2(p1,p2):\n",
    "    numerator1 =  9*g*math.sin(2*p1.theta-p2.theta)\n",
    "    numerator2 = -7*g*math.sin(p2.theta)\n",
    "    numerator3 = 16*l*(p1.vel**2)*math.sin(   p1.theta-p2.theta )\n",
    "    numerator4 =  3*l*(p2.vel**2)*math.sin(2*(p1.theta-p2.theta))\n",
    "    denominator = l*(23 - 9*math.cos(2*(p1.theta-p2.theta)))\n",
    "    accel2 = 3*(numerator1+numerator2+numerator3+numerator4)/denominator\n",
    "    return accel2\n"
   ]
  },
  {
   "cell_type": "code",
   "execution_count": 5,
   "metadata": {
    "collapsed": false
   },
   "outputs": [
    {
     "name": "stdout",
     "output_type": "stream",
     "text": [
      "-16.296201590791057\n",
      "14.592071973283083\n"
     ]
    }
   ],
   "source": [
    "p1 = PendState(1,0)\n",
    "p2 = PendState(-1,0)\n",
    "print(calAccel1(p1,p2))\n",
    "print(calAccel2(p1,p2))\n"
   ]
  },
  {
   "cell_type": "code",
   "execution_count": null,
   "metadata": {
    "collapsed": true
   },
   "outputs": [],
   "source": []
  }
 ],
 "metadata": {
  "kernelspec": {
   "display_name": "Python 3",
   "language": "python",
   "name": "python3"
  },
  "language_info": {
   "codemirror_mode": {
    "name": "ipython",
    "version": 3
   },
   "file_extension": ".py",
   "mimetype": "text/x-python",
   "name": "python",
   "nbconvert_exporter": "python",
   "pygments_lexer": "ipython3",
   "version": "3.5.2"
  }
 },
 "nbformat": 4,
 "nbformat_minor": 2
}

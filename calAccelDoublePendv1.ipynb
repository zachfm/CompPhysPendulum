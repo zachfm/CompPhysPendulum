{
 "cells": [
  {
   "cell_type": "code",
   "execution_count": null,
   "metadata": {
    "collapsed": true
   },
   "outputs": [],
   "source": []
  },
  {
   "cell_type": "code",
   "execution_count": 2,
   "metadata": {
    "collapsed": false
   },
   "outputs": [
    {
     "ename": "IndentationError",
     "evalue": "unindent does not match any outer indentation level (<ipython-input-2-a8260be6af09>, line 26)",
     "output_type": "error",
     "traceback": [
      "\u001b[0;36m  File \u001b[0;32m\"<ipython-input-2-a8260be6af09>\"\u001b[0;36m, line \u001b[0;32m26\u001b[0m\n\u001b[0;31m    numerator2 = 3*l*(p1.vel**2)*math.sin(2*(p1.theta-p2.theta))\u001b[0m\n\u001b[0m                                                                ^\u001b[0m\n\u001b[0;31mIndentationError\u001b[0m\u001b[0;31m:\u001b[0m unindent does not match any outer indentation level\n"
     ]
    }
   ],
   "source": [
    "class Pendulum:\n",
    "    def __init__(self, theta0, vel0):\n",
    "        # Angular velocity\n",
    "        self.vel = [vel0]\n",
    "        # Angular position\n",
    "        self.theta = [theta0]\n",
    "        # Vector of timesteps\n",
    "        self.t = [0,dt]\n",
    "        # Initialize velocity and position with the Euler integration \n",
    "        # scheme\n",
    "        accel = calAccel(self, theta0);\n",
    "        self.vel.append(self.vel[-1]+accel*dt);\n",
    "        self.theta.append(self.theta[-1]+self.vel[-1]*dt);\n",
    "\n",
    "def calAccel1(pend, theta):\n",
    "    accel = -(k**2)*math.sin(theta)\n",
    "    return accel\n",
    "\n",
    "def calAccel1(pend, theta):\n",
    "    accel = -(k**2)*math.sin(theta)\n",
    "    return accel\n",
    "\n",
    "def bashforthAdams(pendprim, pendsec, num):\n",
    "\tif num == 1:\n",
    "\t\tnumerator1 = 3*g*(math.sin(p1.theta-2*p2.theta)+3*math.sin(p1.theta))\n",
    "\t    numerator2 = 3*l*(p1.vel**2)*math.sin(2*(p1.theta-p2.theta))\n",
    "\t    numerator3 = 4*l*(p2.vel**2)*math.sin(   p1.theta-p2.theta )\n",
    "\t    denominator =  l*(9*math.cos(2*(p1.theta-p2.theta)) - 23)\n",
    "\t    vn = 3*(numerator1+numerator2+numerator3)/denominator\n",
    "\t    thn = pend.theta[-1] + 1.5*dt*pend.vel[-1] - 0.5*dt*pend.vel[-2]\n",
    "\n",
    "\telif num == 2:\n",
    "\t    numerator1 =  9*g*math.sin(2*p1.theta-p2.theta)\n",
    "\t    numerator2 = -7*g*math.sin(p2.theta)\n",
    "\t    numerator3 = 16*l*(p1.vel**2)*math.sin(   p1.theta-p2.theta )\n",
    "\t    numerator4 =  3*l*(p2.vel**2)*math.sin(2*(p1.theta-p2.theta))\n",
    "\t    denominator = l*(23 - 9*math.cos(2*(p1.theta-p2.theta)))\n",
    "\t    vn = 3*(numerator1+numerator2+numerator3+numerator4)/denominator\n",
    "\t    thn = pend.theta[-1] + 1.5*dt*pend.vel[-1] - 0.5*dt*pend.vel[-2]\t\t\n",
    "    pendprim.vel.append(vn)\n",
    "    pendprim.theta.append(thn)   \n",
    "    return pendprim\n",
    "\n",
    "def runBashforth(pendprim, pendsec, num):\n",
    "    for i in range(1, iterations):\n",
    "        pendprim = bashforthAdams(pendprim, pendsec, num)\n",
    "        pendprim.t.append(pendprim.t[-1] + dt)\n",
    "    return pend\n",
    "\n",
    "# Initialize simulation parameters\n",
    "dt = .01\n",
    "iterations = 10000\n",
    "# Gamma in this case is the strength of the driving force\n",
    "gamma = 5\n",
    "# Omega in this case is the frequency with which the driving force\n",
    "# oscillates\n",
    "omega = 1\n",
    "# Beta is the damping coefficient in this equation\n",
    "beta = 0.5\n",
    "# k = root(g/L)\n",
    "k = 1.0\n",
    "pi = math.pi\n",
    "\n",
    "# Set up the angles to simulate the pendulum for\n",
    "initialAngles = [(pi/4), (pi/2), ((3*pi)/4), ((1000*pi)/1080),\\\n",
    "                 ((1000*pi)/1001)];\n",
    "numPlots = len(initialAngles)\n",
    "pends1 = []\n",
    "pends2 = []\n",
    "plt.clf()\n",
    "\n",
    "# Build a vector of pendulums\n",
    "for i in range(0,numPlots):\n",
    "    pends1.append(Pendulum(initialAngles[i], 0))\n",
    "    pends2.append(Pendulum(initialAngles[i], 0))      \n",
    "\n",
    "# Run the simulation for each pendulum, then plot it in phase space over\n",
    "# the previous plots\n",
    "#fig = plt.figure(figsize=(20,20));\n",
    "for i in range(0,numPlots):\n",
    "    pends1[i] = runBashforth(pends1[i], pends2[i], 1)\n",
    "    pends2[i] = runBashforth(pends1[i], pends2[i], 2)\n",
    "    sub = fig.add_subplot(111)\n",
    "    sub.plot(pends1[i].theta, pends1[i].vel)\n"
   ]
  },
  {
   "cell_type": "code",
   "execution_count": null,
   "metadata": {
    "collapsed": true
   },
   "outputs": [],
   "source": []
  }
 ],
 "metadata": {
  "kernelspec": {
   "display_name": "Python 3",
   "language": "python",
   "name": "python3"
  },
  "language_info": {
   "codemirror_mode": {
    "name": "ipython",
    "version": 3
   },
   "file_extension": ".py",
   "mimetype": "text/x-python",
   "name": "python",
   "nbconvert_exporter": "python",
   "pygments_lexer": "ipython3",
   "version": "3.5.2"
  }
 },
 "nbformat": 4,
 "nbformat_minor": 2
}

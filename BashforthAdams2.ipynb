{
 "cells": [
  {
   "cell_type": "code",
   "execution_count": null,
   "metadata": {
    "collapsed": false
   },
   "outputs": [],
   "source": [
    "import matplotlib.pyplot as plt\n",
    "import numpy as np\n",
    "import math"
   ]
  },
  {
   "cell_type": "markdown",
   "metadata": {},
   "source": [
    "#Initialize  t, y and arrays"
   ]
  },
  {
   "cell_type": "code",
   "execution_count": null,
   "metadata": {
    "collapsed": false
   },
   "outputs": [],
   "source": [
    "# Stores data regarding the current and past states of a single pendulum\n",
    "class Pendulum:\n",
    "    def __init__(self, theta0):\n",
    "        # Angular velocity\n",
    "        self.vel = [0]\n",
    "        # Angular position\n",
    "        self.theta = [theta0]\n",
    "        # Vector of timesteps\n",
    "        self.t = [0,dt]\n",
    "        # Initialize velocity and position with the Euler integration \n",
    "        # scheme\n",
    "        accel = cal_accel(self, theta0);\n",
    "        self.vel.append(self.vel[-1]+accel*dt);\n",
    "        self.theta.append(self.theta[-1]+self.vel[-1]*dt);\n"
   ]
  },
  {
   "cell_type": "code",
   "execution_count": null,
   "metadata": {
    "collapsed": true
   },
   "outputs": [],
   "source": [
    "# Initialize simulation parameters\n",
    "dt = .01\n",
    "iterations = 10000\n",
    "# Gamma in this case is the strength of the driving force\n",
    "gamma = 5\n",
    "# Omega in this case is the frequency with which the driving force\n",
    "# oscillates\n",
    "omega = 3\n",
    "# Beta is the damping coefficient in this equation\n",
    "beta = 0.5\n",
    "# k = root(g/L)\n",
    "k = 1.0"
   ]
  },
  {
   "cell_type": "code",
   "execution_count": null,
   "metadata": {
    "collapsed": false
   },
   "outputs": [],
   "source": [
    "# Purpose: Calculate the acceleration of a driven, damped pendulum,\n",
    "# given its current angular position and the current simulation time\n",
    "# Arguments: A Pendulum object and the Pendulum's current angle\n",
    "# Retuns: The acceleration of the pendulum at this point in time\n",
    "def cal_accelDrivenDamped(pend, theta):\n",
    "    accel = -(k**2)*math.sin(theta)+ \\\n",
    "              gamma*(k**2)*math.sin(pend.t[-1]*omega) - beta*pend.vel\n",
    "    return accel\n",
    "\n",
    "# Purpose: Calculate the acceleration of a driven pendulum, given its\n",
    "# current angular position and the current simulation time\n",
    "# Arguments: A Pendulum object and the Pendulum's current angle\n",
    "# Retuns: The acceleration of the pendulum at this point in time\n",
    "def cal_accelDrivenDamped(pend, theta):\n",
    "    accel = -(k**2)*math.sin(theta)+ \\\n",
    "              gamma*(k**2)*math.sin(pend.t[-1]*omega)\n",
    "    return accel\n",
    "\n",
    "# Purpose: Calculate the acceleration of an undriven pendulum, given its\n",
    "# current angular position and the current simulation time\n",
    "# Arguments: A Pendulum object and the Pendulum's current angle\n",
    "# Retuns: The acceleration of the pendulum at this point in time\n",
    "def cal_accel(pend, theta):\n",
    "    accel = -(k**2)*math.sin(theta)\n",
    "    return accel\n",
    "\n",
    "# Purpose: Perform a single step in a Bashforth-Adams integration of a\n",
    "# driven , damped simple pendulum\n",
    "# Arguments: The Pendulum to integrate over\n",
    "# Returns: The same Pendulum, one integration step further on\n",
    "def bashforthadamsDrivenDamped(pend):\n",
    "    vn = pend.vel[-1] + 1.5*dt*cal_accelDrivenDamped(pend, \\\n",
    "         pend.theta[-1]) - 0.5*dt* \\\n",
    "         cal_accelDrivenDamped(pend, pend.theta[-2])\n",
    "    thn = pend.theta[-1] + 1.5*dt*pend.vel[-1] - 0.5*dt*pend.vel[-2]\n",
    "    pend.vel.append(vn)\n",
    "    pend.theta.append(thn)\n",
    "    \n",
    "# Purpose: Perform a single step in a Bashforth-Adams integration of a\n",
    "# driven simple pendulum\n",
    "# Arguments: The Pendulum to integrate over\n",
    "# Returns: The same Pendulum, one integration step further on\n",
    "def bashforthadamsDrivenDamped(pend):\n",
    "    vn = pend.vel[-1] + 1.5*dt*cal_accelDriven(pend, pend.theta[-1]) - \\\n",
    "         0.5*dt*cal_accelDriven(pend, pend.theta[-2])\n",
    "    thn = pend.theta[-1] + 1.5*dt*pend.vel[-1] - 0.5*dt*pend.vel[-2]\n",
    "    pend.vel.append(vn)\n",
    "    pend.theta.append(thn)\n",
    "    \n",
    "# Purpose: Perform a single step in a Bashforth-Adams integration of a\n",
    "# driven simple pendulum\n",
    "# Arguments: The Pendulum to integrate over\n",
    "# Returns: The same Pendulum, one integration step further on\n",
    "def bashforthadamsDriven(pend):\n",
    "    vn = pend.vel[-1] + 1.5*dt*cal_accelDriven(pend, pend.theta[-1]) - \\\n",
    "         0.5*dt*cal_accelDriven(pend, pend.theta[-2])\n",
    "    thn = pend.theta[-1] + 1.5*dt*pend.vel[-1] - 0.5*dt*pend.vel[-2]\n",
    "    pend.vel.append(vn)\n",
    "    pend.theta.append(thn)\n",
    "\n",
    "# Purpose: Perform a single step in a Bashforth-Adams integration of a\n",
    "# simple pendulum\n",
    "# Arguments: The Pendulum to integrate over\n",
    "# Returns: The same Pendulum, one integration step further on\n",
    "def bashforthadams(pend):\n",
    "    vn = pend.vel[-1] + 1.5*dt*cal_accel(pend, pend.theta[-1]) - \\\n",
    "         0.5*dt*cal_accel(pend, pend.theta[-2])\n",
    "    thn = pend.theta[-1] + 1.5*dt*pend.vel[-1] - 0.5*dt*pend.vel[-2]\n",
    "    pend.vel.append(vn)\n",
    "    pend.theta.append(thn)    "
   ]
  },
  {
   "cell_type": "code",
   "execution_count": null,
   "metadata": {
    "collapsed": false,
    "scrolled": false
   },
   "outputs": [],
   "source": [
    "pi = math.pi\n",
    "pend = []\n",
    "numPlots = 1\n",
    "maxPiFraction = 0.5\n",
    "plt.clf()\n",
    "for i in range(numPlots):\n",
    "    pend.append(Pendulum((maxPiFraction * pi)*i/(numPlots)))\n",
    "\n",
    "fig = plt.figure(figsize=(20,20));\n",
    "for i in range(numPlots):\n",
    "    run_oscillator(pend[i])\n",
    "    sub = fig.add_subplot(111)\n",
    "    sub.plot(pend[i].theta, pend[i].vel)\n",
    "    \n",
    "# plt.xlim([-5,5])\n",
    "# plt.ylim([-3,3])\n",
    "plt.xlabel('theta')\n",
    "plt.ylabel('vel')\n",
    "plt.show()\n",
    "\n"
   ]
  },
  {
   "cell_type": "code",
   "execution_count": null,
   "metadata": {
    "collapsed": true
   },
   "outputs": [],
   "source": [
    "def solve_analytical_small():\n",
    "    timestep = dt\n",
    "    pend_small = Pendulum(1)\n",
    "    t = 0\n",
    "    for i in range(iterations):\n",
    "            t += timestep\n",
    "            pend_small.theta.append(pend_small.theta[0]*math.cos(k*t))\n",
    "            pend_small.vel.append(-k*pend_small.theta[0]*math.sin(k*t))\n",
    "            pend_small.t.append(t)\n",
    "    return pend_small"
   ]
  },
  {
   "cell_type": "code",
   "execution_count": null,
   "metadata": {
    "collapsed": false,
    "scrolled": true
   },
   "outputs": [],
   "source": [
    "pend_small = solve_analytical_small()\n",
    "plt.plot(pend[0].t, pend[0].theta)\n",
    "plt.xlabel('t')\n",
    "plt.ylabel('theta')\n",
    "plt.show()"
   ]
  },
  {
   "cell_type": "code",
   "execution_count": null,
   "metadata": {
    "collapsed": false
   },
   "outputs": [],
   "source": [
    "err = [];\n",
    "for i in range(iterations+2):\n",
    "    err.append(pend[0].theta[i] - pend_small.theta[i])\n",
    "\n",
    "plt.plot(pend_small.t, err)\n",
    "plt.xlabel('t')\n",
    "plt.ylabel('err')\n",
    "plt.show()"
   ]
  },
  {
   "cell_type": "code",
   "execution_count": null,
   "metadata": {
    "collapsed": true
   },
   "outputs": [],
   "source": []
  },
  {
   "cell_type": "code",
   "execution_count": null,
   "metadata": {
    "collapsed": true
   },
   "outputs": [],
   "source": []
  },
  {
   "cell_type": "code",
   "execution_count": null,
   "metadata": {
    "collapsed": true
   },
   "outputs": [],
   "source": []
  },
  {
   "cell_type": "code",
   "execution_count": null,
   "metadata": {
    "collapsed": true
   },
   "outputs": [],
   "source": []
  },
  {
   "cell_type": "code",
   "execution_count": null,
   "metadata": {
    "collapsed": true
   },
   "outputs": [],
   "source": []
  }
 ],
 "metadata": {
  "kernelspec": {
   "display_name": "Python 3",
   "language": "python",
   "name": "python3"
  },
  "language_info": {
   "codemirror_mode": {
    "name": "ipython",
    "version": 3
   },
   "file_extension": ".py",
   "mimetype": "text/x-python",
   "name": "python",
   "nbconvert_exporter": "python",
   "pygments_lexer": "ipython3",
   "version": "3.5.3"
  }
 },
 "nbformat": 4,
 "nbformat_minor": 2
}
